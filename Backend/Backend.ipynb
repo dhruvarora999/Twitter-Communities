{
  "nbformat": 4,
  "nbformat_minor": 0,
  "metadata": {
    "colab": {
      "name": "Backend.ipynb",
      "provenance": []
    },
    "kernelspec": {
      "name": "python3",
      "display_name": "Python 3"
    }
  },
  "cells": [
    {
      "cell_type": "code",
      "metadata": {
        "id": "NL4hoEVdUNEs"
      },
      "source": [
        "import tweepy\n",
        "import webbrowser\n",
        "import time"
      ],
      "execution_count": null,
      "outputs": []
    },
    {
      "cell_type": "code",
      "metadata": {
        "id": "N1D3l0K8UYNu"
      },
      "source": [
        "consumer_key = 'hvsqYmNF5CiPbSLGFLCgfFWdQ'\n",
        "consumer_secret = 'DdKoN8FqU81aJTqQ0pHLUg2dQgbSInWgYKPgNHnhznIo9UhM7I'"
      ],
      "execution_count": null,
      "outputs": []
    },
    {
      "cell_type": "code",
      "metadata": {
        "id": "45UWeFZdUp2c"
      },
      "source": [
        "callback_uri='oob'"
      ],
      "execution_count": null,
      "outputs": []
    },
    {
      "cell_type": "code",
      "metadata": {
        "colab": {
          "base_uri": "https://localhost:8080/"
        },
        "id": "DUxw3ZggUvjK",
        "outputId": "d94b50a1-eff7-4a97-90a3-609444f401ef"
      },
      "source": [
        "auth = tweepy.OAuthHandler(consumer_key,consumer_secret,callback_uri)\n",
        "redirect_url = auth.get_authorization_url()\n",
        "print(redirect_url)"
      ],
      "execution_count": null,
      "outputs": [
        {
          "output_type": "stream",
          "text": [
            "https://api.twitter.com/oauth/authorize?oauth_token=QJFYpAAAAAABJ9evAAABdewAGiI\n"
          ],
          "name": "stdout"
        }
      ]
    },
    {
      "cell_type": "code",
      "metadata": {
        "colab": {
          "base_uri": "https://localhost:8080/"
        },
        "id": "y_NucgdBALew",
        "outputId": "c040c847-2dc2-4d9f-ae7f-a349a83513cc"
      },
      "source": [
        "user_pint_input=input()"
      ],
      "execution_count": null,
      "outputs": [
        {
          "output_type": "stream",
          "text": [
            "2189963\n"
          ],
          "name": "stdout"
        }
      ]
    },
    {
      "cell_type": "code",
      "metadata": {
        "colab": {
          "base_uri": "https://localhost:8080/"
        },
        "id": "Lb6My7pFAUbB",
        "outputId": "5ab517bd-a1f9-447f-f0e8-f81e42e6c5b2"
      },
      "source": [
        "print(user_pint_input)"
      ],
      "execution_count": null,
      "outputs": [
        {
          "output_type": "stream",
          "text": [
            "2189963\n"
          ],
          "name": "stdout"
        }
      ]
    },
    {
      "cell_type": "code",
      "metadata": {
        "colab": {
          "base_uri": "https://localhost:8080/"
        },
        "id": "_5PGvktRAcrv",
        "outputId": "273a4dca-d930-4d6a-f1e8-3d1a861055f7"
      },
      "source": [
        "auth.get_access_token(user_pint_input)"
      ],
      "execution_count": null,
      "outputs": [
        {
          "output_type": "execute_result",
          "data": {
            "text/plain": [
              "('1328213401688895493-cxGTz8qPiMSMbQrgXYtwtbeV7o81II',\n",
              " 'oxmuOCvrPl1a0YyRK5Tq7CEt55KHLaghAATp7DMx2ite7')"
            ]
          },
          "metadata": {
            "tags": []
          },
          "execution_count": 16
        }
      ]
    },
    {
      "cell_type": "code",
      "metadata": {
        "id": "pIzPHWm5WRot"
      },
      "source": [
        "api=tweepy.API(auth)\n"
      ],
      "execution_count": null,
      "outputs": []
    },
    {
      "cell_type": "code",
      "metadata": {
        "id": "daYilMePWe43"
      },
      "source": [
        "curr_user = api.me();\n",
        "print(curr_user.screen_name)"
      ],
      "execution_count": null,
      "outputs": []
    },
    {
      "cell_type": "code",
      "metadata": {
        "id": "KSabTGVCA08v"
      },
      "source": [
        "user_screenName=curr_user.screen_name\n",
        "curr_user_friends=[]\n",
        "for friend in api.friends(user_screenName): \n",
        "    curr_user_friends.append(friend.screen_name)\n",
        "print(curr_user_friends)    "
      ],
      "execution_count": null,
      "outputs": []
    },
    {
      "cell_type": "code",
      "metadata": {
        "id": "2bHHw43eBRXF"
      },
      "source": [
        "topics=[]\n",
        "topics.append(api.subscribe_list(user_screenName))\n",
        "for friend in api.friends(user_screenName): \n",
        "    topics.append(api.subscribe_list(friend.screen_name))\n",
        "\n"
      ],
      "execution_count": null,
      "outputs": []
    },
    {
      "cell_type": "code",
      "metadata": {
        "id": "tihCUISfJxo5"
      },
      "source": [
        "import random\n",
        "\n",
        "\n",
        "#############################\n",
        "# SIMILARITY CHECK FUNCTION #\n",
        "#############################\n",
        "\n",
        "# euclidean distance calcualtion\n",
        "\n",
        "import math\n",
        "def euclideanDistance(instance1, instance2, length):\n",
        "\tdistance = 0\n",
        "\tfor x in range(length):\n",
        "\t\tdistance += pow((instance1[x] - instance2[x]), 2)\n",
        "\treturn math.sqrt(distance)\n",
        "\n",
        "\n",
        "\n",
        "############################################################\n",
        "# NEIGHBOURS - selecting subset with the smallest distance #\n",
        "############################################################\n",
        "\n",
        "import operator \n",
        "def getNeighbors(trainingSet, testInstance, k):\n",
        "\tdistances = []\n",
        "\tlength = len(testInstance)-1\n",
        "\tfor x in range(len(trainingSet)):\n",
        "\t\tdist = euclideanDistance(testInstance, trainingSet[x], length)\n",
        "\t\tdistances.append((trainingSet[x], dist))\n",
        "\tdistances.sort(key=operator.itemgetter(1))\n",
        "\tneighbors = []\n",
        "\tfor x in range(k):\n",
        "\t\tneighbors.append(distances[x][0])\n",
        "\treturn neighbors\n",
        "\n",
        "\n",
        "\n",
        "######################\n",
        "# PREDICTED RESPONSE #\n",
        "######################\n",
        "\n",
        "import operator\n",
        "def getResponse(neighbors):\n",
        "\tclassVotes = {}\n",
        "\tfor x in range(len(neighbors)):\n",
        "\t\tresponse = neighbors[x][-1]\n",
        "\t\tif response in classVotes:\n",
        "\t\t\tclassVotes[response] += 1\n",
        "\t\telse:\n",
        "\t\t\tclassVotes[response] = 1\n",
        "\tsortedVotes = sorted(classVotes.items(), key=operator.itemgetter(1), reverse=True)\n",
        "\treturn sortedVotes[0][0]\n",
        "\n",
        "\n",
        "\n",
        "######################\n",
        "# MEASURING ACCURACY #\n",
        "######################\n",
        "\n",
        "def getAccuracy(testSet, predictions):\n",
        "\tcorrect = 0\n",
        "\tfor x in range(len(testSet)):\n",
        "\t\tif testSet[x][-1] in predictions[x]: \n",
        "\t\t\tcorrect = correct + 1\n",
        "\t\t\t\n",
        "\treturn (correct/float(len(testSet))*100) \n"
      ],
      "execution_count": null,
      "outputs": []
    },
    {
      "cell_type": "code",
      "metadata": {
        "id": "AsedQO29JdTg"
      },
      "source": [
        "  trainingSet=[]\n",
        "\ttestSet=[]\n",
        "\tsplit = 0.67\n",
        "  predictions=[]\n",
        "  loadDataset(curr_user_friends,topics,split, trainingSet, testSet)\n",
        "\tk = 3\n",
        "\tfor x in range(len(testSet)):\n",
        "\t\tneighbors = getNeighbors(trainingSet, testSet[x], k)\n",
        "\t\tresult = getResponse(neighbors)\n",
        "\t\tpredictions.append(result)\n",
        "\t\tprint('> predicted=' + repr(result) + ', actual=' + repr(testSet[x][-1]))\n",
        "\taccuracy = getAccuracy(testSet, predictions)\n",
        "\n",
        "\n",
        "\tprint(predictions)"
      ],
      "execution_count": null,
      "outputs": []
    }
  ]
}